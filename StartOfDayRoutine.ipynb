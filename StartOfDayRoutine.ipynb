{
 "cells": [
  {
   "cell_type": "code",
   "execution_count": 1,
   "id": "fabulous-zimbabwe",
   "metadata": {},
   "outputs": [],
   "source": [
    "#automates the start of my day routine\n",
    "import webbrowser\n",
    "import sys\n",
    "import os"
   ]
  },
  {
   "cell_type": "code",
   "execution_count": 2,
   "id": "practical-weapon",
   "metadata": {},
   "outputs": [],
   "source": [
    "def sites_to_load():\n",
    "    sites = {'linkedin' : 'http://www.linkedin.com', 'music' : 'http://www.youtube.com'}\n",
    "    new = 1\n",
    "    for key, value in sites.items():\n",
    "        webbrowser.open(value)\n",
    "        if(new==1):\n",
    "            new=2\n",
    "    return"
   ]
  },
  {
   "cell_type": "code",
   "execution_count": 3,
   "id": "persistent-portland",
   "metadata": {},
   "outputs": [],
   "source": [
    "def open_mail_app():\n",
    "    os.system('open **********/Mail.app')\n",
    "    return"
   ]
  },
  {
   "cell_type": "code",
   "execution_count": 4,
   "id": "abandoned-eagle",
   "metadata": {},
   "outputs": [],
   "source": [
    "def open_calendar_app():\n",
    "    os.system('open **********/Calendar.app')\n",
    "    return"
   ]
  },
  {
   "cell_type": "code",
   "execution_count": 5,
   "id": "remarkable-pantyhose",
   "metadata": {},
   "outputs": [],
   "source": [
    "if '__name__=__main__':\n",
    "    sites_to_load()\n",
    "    open_mail_app()\n",
    "    open_calendar_app()\n",
    "    quit()"
   ]
  },
  {
   "cell_type": "code",
   "execution_count": null,
   "id": "muslim-climb",
   "metadata": {},
   "outputs": [],
   "source": []
  }
 ],
 "metadata": {
  "kernelspec": {
   "display_name": "Python 3",
   "language": "python",
   "name": "python3"
  },
  "language_info": {
   "codemirror_mode": {
    "name": "ipython",
    "version": 3
   },
   "file_extension": ".py",
   "mimetype": "text/x-python",
   "name": "python",
   "nbconvert_exporter": "python",
   "pygments_lexer": "ipython3",
   "version": "3.8.5"
  }
 },
 "nbformat": 4,
 "nbformat_minor": 5
}
